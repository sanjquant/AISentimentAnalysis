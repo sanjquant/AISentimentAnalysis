{
 "cells": [
  {
   "attachments": {},
   "cell_type": "markdown",
   "metadata": {},
   "source": [
    "## Using Reddit API : \n",
    "1. USE PYTHON praw libraries to read reddit comments "
   ]
  },
  {
   "cell_type": "markdown",
   "metadata": {},
   "source": []
  },
  {
   "cell_type": "code",
   "execution_count": null,
   "metadata": {},
   "outputs": [],
   "source": [
    "import openai\n",
    "import os\n"
   ]
  },
  {
   "cell_type": "code",
   "execution_count": 2,
   "metadata": {},
   "outputs": [],
   "source": [
    "import praw"
   ]
  },
  {
   "cell_type": "code",
   "execution_count": 3,
   "metadata": {},
   "outputs": [],
   "source": [
    "os.environ['REDDIT_CLIENT'] = \"Get you Reddit Client ID\"\n",
    "os.environ['REDDIT_CLIENT_SECRET'] = \"Get you Reddit Client Secret Passcode\""
   ]
  },
  {
   "cell_type": "code",
   "execution_count": 4,
   "metadata": {},
   "outputs": [],
   "source": [
    "client_id= os.environ['REDDIT_CLIENT']\n",
    "client_secret=os.environ['REDDIT_CLIENT_SECRET']"
   ]
  },
  {
   "cell_type": "code",
   "execution_count": 5,
   "metadata": {},
   "outputs": [],
   "source": [
    "reddit = praw.Reddit(client_id =client_id, client_secret=client_secret, user_agent='sentiment analysis test')"
   ]
  },
  {
   "cell_type": "code",
   "execution_count": 6,
   "metadata": {},
   "outputs": [
    {
     "data": {
      "text/plain": [
       "<praw.reddit.Reddit at 0x25409a99370>"
      ]
     },
     "execution_count": 6,
     "metadata": {},
     "output_type": "execute_result"
    }
   ],
   "source": [
    "reddit"
   ]
  },
  {
   "cell_type": "code",
   "execution_count": 7,
   "metadata": {},
   "outputs": [
    {
     "name": "stdout",
     "output_type": "stream",
     "text": [
      "Rate My Portfolio - r/Stocks Quarterly Thread March 2023\n",
      "/r/Stocks Weekend Discussion Saturday - May 20, 2023\n",
      "When did we collectively decide Google is a $126 stock after struggling at $90?\n",
      "Pypl, Paypal valuation cheap\n",
      "Do 401k contributions reduce the amount of unemployment you would get?\n"
     ]
    }
   ],
   "source": [
    "for submission in reddit.subreddit(\"stocks\").hot(limit=5):\n",
    "    print(submission.title)\n"
   ]
  },
  {
   "cell_type": "code",
   "execution_count": 8,
   "metadata": {},
   "outputs": [],
   "source": [
    "subreddit_stocks = reddit.subreddit(\"stocks\")"
   ]
  },
  {
   "cell_type": "code",
   "execution_count": 9,
   "metadata": {},
   "outputs": [
    {
     "data": {
      "text/plain": [
       "'stocks'"
      ]
     },
     "execution_count": 9,
     "metadata": {},
     "output_type": "execute_result"
    }
   ],
   "source": [
    "subreddit_stocks.display_name"
   ]
  },
  {
   "cell_type": "code",
   "execution_count": 10,
   "metadata": {},
   "outputs": [
    {
     "data": {
      "text/plain": [
       "3676"
      ]
     },
     "execution_count": 10,
     "metadata": {},
     "output_type": "execute_result"
    }
   ],
   "source": [
    "subreddit_stocks.accounts_active ## gives number of people active now "
   ]
  },
  {
   "cell_type": "code",
   "execution_count": 11,
   "metadata": {},
   "outputs": [
    {
     "data": {
      "text/plain": [
       "\"\\nSo what we're going to do is let's say we wanted to access the first five hot posts and then those three\\nmost upvoted comments in those posts, How do we do this?\\n\\n\""
      ]
     },
     "execution_count": 11,
     "metadata": {},
     "output_type": "execute_result"
    }
   ],
   "source": [
    "'''\n",
    "So what we're going to do is let's say we wanted to access the first five hot posts and then those three\n",
    "most upvoted comments in those posts, How do we do this?\n",
    "\n",
    "'''"
   ]
  },
  {
   "cell_type": "code",
   "execution_count": 12,
   "metadata": {},
   "outputs": [
    {
     "name": "stdout",
     "output_type": "stream",
     "text": [
      "Rate My Portfolio - r/Stocks Quarterly Thread March 2023\n",
      "/r/Stocks Weekend Discussion Saturday - May 20, 2023\n",
      "When did we collectively decide Google is a $126 stock after struggling at $90?\n",
      "Pypl, Paypal valuation cheap\n",
      "Do 401k contributions reduce the amount of unemployment you would get?\n"
     ]
    }
   ],
   "source": [
    "for post in subreddit_stocks.hot(limit=5):   #first five hot posts\n",
    "        print(post.title)\n",
    "        submission =reddit.submission(post.id)\n",
    "        #print top 2 comments per title submission\n",
    "        icounter =0\n",
    "        for comment in submission.comments:\n",
    "                # print(comment.body)\n",
    "                if comment.body=='[deleted]':\n",
    "                        pass\n",
    "                icounter+=1\n",
    "                if icounter==2:\n",
    "                        break\n",
    "\n"
   ]
  },
  {
   "attachments": {},
   "cell_type": "markdown",
   "metadata": {},
   "source": [
    "Welcome back, everyone, to this lecture where we're actually going to generate the prompts.\n",
    "\n",
    "So we're going to create a function that is going to get the top end post titles from some requested\n",
    "\n",
    "subreddit and then the top end comments for each post.\n",
    "\n",
    "And we'll let the user decide on how many post titles they're interested in, as well as how many comments"
   ]
  },
  {
   "cell_type": "markdown",
   "metadata": {},
   "source": [
    "OPEN API - Prompt generation "
   ]
  },
  {
   "cell_type": "code",
   "execution_count": 13,
   "metadata": {},
   "outputs": [],
   "source": [
    "import os\n",
    "import openai"
   ]
  },
  {
   "cell_type": "code",
   "execution_count": 26,
   "metadata": {},
   "outputs": [],
   "source": [
    "os.environ[\"OPENAI_API_KEY\"] = \"Get you OPENAI key\"  \n",
    "openai.api_key = os.getenv(\"OPENAI_API_KEY\")"
   ]
  },
  {
   "attachments": {},
   "cell_type": "markdown",
   "metadata": {},
   "source": [
    "Genearte Prompt"
   ]
  },
  {
   "cell_type": "code",
   "execution_count": 15,
   "metadata": {},
   "outputs": [
    {
     "data": {
      "text/plain": [
       "<bound method BaseListingMixin.hot of Subreddit(display_name='stocks')>"
      ]
     },
     "execution_count": 15,
     "metadata": {},
     "output_type": "execute_result"
    }
   ],
   "source": [
    "getattr(subreddit_stocks, \"hot\")"
   ]
  },
  {
   "cell_type": "code",
   "execution_count": 16,
   "metadata": {},
   "outputs": [],
   "source": [
    "def get_titles_and_comments(subreddit=\"stocks\", sub_instance=\"hot\", limit=6, num_comments=3, skip_first=2):\n",
    "    subreddit = reddit.subreddit(subreddit)\n",
    "    titles_and_comments = {}\n",
    "    for icounter, post in enumerate(getattr(subreddit, sub_instance)(limit=limit)):\n",
    "\n",
    "        if icounter < skip_first : \n",
    "            continue\n",
    "\n",
    "        icounter+=(1-skip_first)\n",
    "        titles_and_comments[icounter] = \"\"\n",
    "        submission = reddit.submission(post.id)\n",
    "        title = post.title\n",
    "\n",
    "        titles_and_comments[icounter] += \"Title: \" + title  + \"\\n\\n\"\n",
    "        titles_and_comments[icounter] += \"Comments: \\n\\n\"\n",
    "\n",
    "        comment_counter = 0\n",
    "        for comment in submission.comments:\n",
    "            comment = comment.body\n",
    "            if not comment == \"[deleted]\":\n",
    "                titles_and_comments[icounter] += comment + \"\\n\"\n",
    "                comment_counter+=1\n",
    "            if comment_counter == num_comments:\n",
    "                break\n",
    "    return titles_and_comments\n",
    "    "
   ]
  },
  {
   "cell_type": "code",
   "execution_count": 17,
   "metadata": {},
   "outputs": [],
   "source": [
    "titles_and_comments = get_titles_and_comments(subreddit=\"stocks\", limit=12)"
   ]
  },
  {
   "cell_type": "code",
   "execution_count": 18,
   "metadata": {},
   "outputs": [
    {
     "data": {
      "text/plain": [
       "{1: 'Title: When did we collectively decide Google is a $126 stock after struggling at $90?\\n\\nComments: \\n\\nGoogle is hardly the crazy one. Nvidia was also around 90 and now is over 300.\\nAi, Ai, Ai, Ai, AI, AI, AIiiii\\nImagine thinking anyone here has any effect on a ticker like google\\n',\n",
       " 2: \"Title: Pypl, Paypal valuation cheap\\n\\nComments: \\n\\nIt's hard to make a strong bullish case for PYPL.\\n\\nLong term, competition abounds.  Their current CEO made a fool of himself saying it was undervalued 200% higher, and now he's taking a golden parachute exit this year.  \\n\\nBut a more mild bull argument would mention that Venmo has a solid presence, that PayPal does well in Europe, and earnings have been... decent. \\n\\nNow some intangibles that could give up some unexpected and perhaps undeserved upside.  One is that falling from 300+ to $59 may mean it's been significantly derisked.  Another is that the market should reward them when the current failed CEO gets replaced.  \\n\\nAnother big one is just the recurring pattern we keep seeing.  The most reviled and left for dead stocks have seen their prices double, but only after they've been completely declared toxic and uninvestible trash.  \\n\\nNVDA, META, AMZN, AMD, TSLA, GOOGL, NFLX and more.  All were being lowered into graves, with near daily revelations that suggested they were gone for good.  \\n\\nThen, for a period, nobody mentioned them and they just sat there, playing dead.  But then, each of them would have some blip of news.  News that's not entirely financial or factual, but more speculative.  \\n\\nHey, dead Netflix is going to cannibalize themselves with a crappy ad tier.  That was the bell signalling the start of their 250% rally.\\n\\nHey, Nvidia is the chip of choice for AI.  Commence 300% run.\\n\\nZuckerberg pretending not to care about metaverse, instead crowing about layoffs and selling more ads.\\n\\nAmazon saying Hey we have ads and AI too!  \\n\\nAs you can see, it doesn't take much narrative to turn trash into treasure.  Netflix has yet to prove anything with their ad tier, and in fact it flopped badly out of the gate, with users being unimpressed and Netflix having to refund most of the early advertisers.  Meta has talked about cost cuts, but the proof of that pudding isn't here yet.\\n\\nThe market doesn't wait for actual proof. It rockets on just the mere promise.\\n\\nWell, there's no more hated big name stock right now than PYPL.  It's what TSLA was in December, and what Netflix was a year ago, and what Amazon and Google were three months ago.\\n\\nIt may continue to be hated, and not see the pause-then-positive-narrative pattern of those other examples.  But on the other hand, what if it does mimic what many other similar names have done?\\n\\nIf someone bought it here, and it merely reverts to where it was two months ago, you'd be riding 35%+ gain.\\nF this garbage. I am a bag holder with heavy loss. I am probably gonna hold it til I die lol\\n\\nEdit: I don’t plan to die for like a few decades so I am fucked lol\\nDon’t ask me why but I used Paypal in half of my internet transactions 3-5 years ago and I haven’t used it once since pandemic.\\n\\nI even forget about my Paypal account. I just use Apple Pay, VISA debit or Bizum (Spanish payment gateway created by largest banks).\\n\\nPaypal reminds me of Dropbox. Amazing, useful and essential service a while back, but now too much competition, and equal/better alternatives.\\n\\nGood luck to Paypal investors though!\\n\",\n",
       " 3: \"Title: Do 401k contributions reduce the amount of unemployment you would get?\\n\\nComments: \\n\\nIt’s a good question. Contributing pretax income to your 401k does reduce your “adjusted gross income”. So I can see why you would wonder about it. But it seems like my state uses gross wages to calculate unemployment benefits, so 401k contributions wouldn’t matter. You should google it for your state though and if it’s based on gross income then you’re fine.\\nI like how OP asks a reasonable question that actually makes sense and every single comment but 1 is making fun of him. You're all idiots.\\nMake sure your company match is based on percentage of whole year versus percentage of each check. I.e. company match up to 7% is per pay period. If you contribute 0 the first 6 months, contributing 14% the last 6 months may only get you the 7% match for the last 6 months.\\n\",\n",
       " 4: 'Title: COLM Columbia Sportswear, overview and valuation\\n\\nComments: \\n\\nI love their products and I\\'ve never thought to look into their stock. Every outdoors store that I go to is full of Columbia products and everyone there is buying or already wearing them, but I don\\'t know that I\\'d buy the stock\\ngreat products that don\\'t gouge you. A lot of outdoor brands are built on the belief that \"oh i\\'m getting really good quality when I pay this high price tag. So it\\'s actually worth it.\"\\nI\\'m wearing a Columbia fishing shirt and shorts right now.  They make the best fishing apparel.\\n',\n",
       " 5: 'Title: Why are DAX, Nikkei at ATH\\n\\nComments: \\n\\nNikkie is not near ATH.\\nPart of the answer is that bonds sold off and the money shifted into stocks. Another part is that the global money supply is still expanding. Lastly, algos are driving things up everywhere after SPX hit the 200 week moving average in Oct 2022.\\nI think Nikkei hit 38k or something around 1990\\n',\n",
       " 6: \"Title: Subscription based Software/Algo recommendations?\\n\\nComments: \\n\\nWelcome to r/stocks!\\n\\nFor stock recommendations please see our portfolio sticky, sort by hot, it's the first sticky, or see [past portfolio stickies here.](https://www.reddit.com/r/stocks/search?q=author%3Aautomoderator+title%3A%22Rate+My+Portfolio%22&restrict_sr=on&sort=new&t=all)\\n\\nFor beginner advice, brokerage info, book recommendations, even advanced topics and more, please read our [Wiki here.](https://www.reddit.com/r/stocks/wiki/index)\\n\\nIf you're wondering **why a stock moved** a certain way, check out [Finviz](https://finviz.com/quote.ashx?t=spy) which aggregates the most news for almost every stock, but also see [Reuters](https://www.reuters.com/), and even [Yahoo Finance](https://finance.yahoo.com/).\\n\\nAlso include *some* [due diligence](https://www.investopedia.com/terms/d/duediligence.asp) to this post or it may be removed if it's low effort.\\n\\n*I am a bot, and this action was performed automatically. Please [contact the moderators of this subreddit](/message/compose/?to=/r/stocks) if you have any questions or concerns.*\\nThe wall street “big boys” certainly do not get the same data that you would get from a $20 a month subscription service\\n\",\n",
       " 7: 'Title: Any experience trading AFTER hours on Robinhood app?\\n\\nComments: \\n\\nI am super curious what you guys think trading at 2 am Eastern was going to be like.\\nSet a limit order and wait, is it really that hard?\\nThe more trading, the more robinhood makes $$ from citadel or other partner market maker.\\n',\n",
       " 8: 'Title: How do you deal with cognitive dissonance? (Oatly)\\n\\nComments: \\n\\nNintendo is a fantastic company and a shit stock.\\nStocks that do well can be for companies you love or hate. \\n\\nHate - Microsoft. They are killing it for the same reasons I hate them, zero UI investment and antiquated looking but all focus rechannelled into enterprise sales for Azure and 365. \\n\\nThere are many other such examples like Google  (especially YouTube) for ads in the past 5 years.\\n\\nLove - I recall reading somewhere companies that are most used by 18-30 girls always make a great index due to high purchasing power. Think Lululemon, makeup brands, etc.\\nA good product isn’t necessarily a good stock. Good businesses aren’t even necessarily good stocks. If you need examples, review long term charts for DIS and BABA.\\n',\n",
       " 9: 'Title: VUAA vs VUSA\\n\\nComments: \\n\\nWhere did you read that the accumulated dividends don’t buy more stock? Internally, most accumulated ETFs work by periodically reinvesting the dividends into the fund itself by buying more stocks. So basically you get the exact same effect as if you were reinvesting them yourself, except you don’t need to pay income taxes before reinvesting. So you’re basically automating the entire process.\\n\\nIMO buying the distributed version of that ETF is pointless. If you care about income(which you shouldn’t overly care about it unless you’re close to retirement or are very short term risk averse) you have way better dividend focused ETFs which have less growth, but much better dividend yield and yield growth.\\n\\nIf you’re American, take a look at SCHD or JEPI. If you’re European, take a look at FUSD, SPYD or VHYD(FUSD is my favourite as it has better dividend growth, while SPYD has better upfront yield and VHYD has better diversification).\\n\\nI’m not particular short term risk averse, but I do invest a small percentage in those ETFs to keep my portfolio stable.\\nTry on /r/eupersonalfinance\\nAre you absolutely sure you are looking at two ETFs denominated in the same currency?\\n\\n[Please read this article for more info](https://irishfinancial.ie/vusa-vs-vuaa-vs-vuag-vs-vusd-sp-500-etfs-differences-explained/?utm_content=cmp-true).\\n',\n",
       " 10: 'Title: Meta planning to release a text-based app that will compete with Twitter, as soon as June\\n\\nComments: \\n\\nMaybe Google will revivie Google Plus.\\n\"***will*** be competitive with\" vs. \"wants to compete with\" are two very different things...\\nMETA is going to try to eat Mastodon.\\n'}"
      ]
     },
     "execution_count": 18,
     "metadata": {},
     "output_type": "execute_result"
    }
   ],
   "source": [
    "titles_and_comments"
   ]
  },
  {
   "cell_type": "code",
   "execution_count": 19,
   "metadata": {},
   "outputs": [
    {
     "name": "stdout",
     "output_type": "stream",
     "text": [
      "{1: 'Title: When did we collectively decide Google is a $126 stock after struggling at $90?\\n\\nComments: \\n\\nGoogle is hardly the crazy one. Nvidia was also around 90 and now is over 300.\\nAi, Ai, Ai, Ai, AI, AI, AIiiii\\nImagine thinking anyone here has any effect on a ticker like google\\n', 2: \"Title: Pypl, Paypal valuation cheap\\n\\nComments: \\n\\nIt's hard to make a strong bullish case for PYPL.\\n\\nLong term, competition abounds.  Their current CEO made a fool of himself saying it was undervalued 200% higher, and now he's taking a golden parachute exit this year.  \\n\\nBut a more mild bull argument would mention that Venmo has a solid presence, that PayPal does well in Europe, and earnings have been... decent. \\n\\nNow some intangibles that could give up some unexpected and perhaps undeserved upside.  One is that falling from 300+ to $59 may mean it's been significantly derisked.  Another is that the market should reward them when the current failed CEO gets replaced.  \\n\\nAnother big one is just the recurring pattern we keep seeing.  The most reviled and left for dead stocks have seen their prices double, but only after they've been completely declared toxic and uninvestible trash.  \\n\\nNVDA, META, AMZN, AMD, TSLA, GOOGL, NFLX and more.  All were being lowered into graves, with near daily revelations that suggested they were gone for good.  \\n\\nThen, for a period, nobody mentioned them and they just sat there, playing dead.  But then, each of them would have some blip of news.  News that's not entirely financial or factual, but more speculative.  \\n\\nHey, dead Netflix is going to cannibalize themselves with a crappy ad tier.  That was the bell signalling the start of their 250% rally.\\n\\nHey, Nvidia is the chip of choice for AI.  Commence 300% run.\\n\\nZuckerberg pretending not to care about metaverse, instead crowing about layoffs and selling more ads.\\n\\nAmazon saying Hey we have ads and AI too!  \\n\\nAs you can see, it doesn't take much narrative to turn trash into treasure.  Netflix has yet to prove anything with their ad tier, and in fact it flopped badly out of the gate, with users being unimpressed and Netflix having to refund most of the early advertisers.  Meta has talked about cost cuts, but the proof of that pudding isn't here yet.\\n\\nThe market doesn't wait for actual proof. It rockets on just the mere promise.\\n\\nWell, there's no more hated big name stock right now than PYPL.  It's what TSLA was in December, and what Netflix was a year ago, and what Amazon and Google were three months ago.\\n\\nIt may continue to be hated, and not see the pause-then-positive-narrative pattern of those other examples.  But on the other hand, what if it does mimic what many other similar names have done?\\n\\nIf someone bought it here, and it merely reverts to where it was two months ago, you'd be riding 35%+ gain.\\nF this garbage. I am a bag holder with heavy loss. I am probably gonna hold it til I die lol\\n\\nEdit: I don’t plan to die for like a few decades so I am fucked lol\\nDon’t ask me why but I used Paypal in half of my internet transactions 3-5 years ago and I haven’t used it once since pandemic.\\n\\nI even forget about my Paypal account. I just use Apple Pay, VISA debit or Bizum (Spanish payment gateway created by largest banks).\\n\\nPaypal reminds me of Dropbox. Amazing, useful and essential service a while back, but now too much competition, and equal/better alternatives.\\n\\nGood luck to Paypal investors though!\\n\", 3: \"Title: Do 401k contributions reduce the amount of unemployment you would get?\\n\\nComments: \\n\\nIt’s a good question. Contributing pretax income to your 401k does reduce your “adjusted gross income”. So I can see why you would wonder about it. But it seems like my state uses gross wages to calculate unemployment benefits, so 401k contributions wouldn’t matter. You should google it for your state though and if it’s based on gross income then you’re fine.\\nI like how OP asks a reasonable question that actually makes sense and every single comment but 1 is making fun of him. You're all idiots.\\nMake sure your company match is based on percentage of whole year versus percentage of each check. I.e. company match up to 7% is per pay period. If you contribute 0 the first 6 months, contributing 14% the last 6 months may only get you the 7% match for the last 6 months.\\n\", 4: 'Title: COLM Columbia Sportswear, overview and valuation\\n\\nComments: \\n\\nI love their products and I\\'ve never thought to look into their stock. Every outdoors store that I go to is full of Columbia products and everyone there is buying or already wearing them, but I don\\'t know that I\\'d buy the stock\\ngreat products that don\\'t gouge you. A lot of outdoor brands are built on the belief that \"oh i\\'m getting really good quality when I pay this high price tag. So it\\'s actually worth it.\"\\nI\\'m wearing a Columbia fishing shirt and shorts right now.  They make the best fishing apparel.\\n', 5: 'Title: Why are DAX, Nikkei at ATH\\n\\nComments: \\n\\nNikkie is not near ATH.\\nPart of the answer is that bonds sold off and the money shifted into stocks. Another part is that the global money supply is still expanding. Lastly, algos are driving things up everywhere after SPX hit the 200 week moving average in Oct 2022.\\nI think Nikkei hit 38k or something around 1990\\n', 6: \"Title: Subscription based Software/Algo recommendations?\\n\\nComments: \\n\\nWelcome to r/stocks!\\n\\nFor stock recommendations please see our portfolio sticky, sort by hot, it's the first sticky, or see [past portfolio stickies here.](https://www.reddit.com/r/stocks/search?q=author%3Aautomoderator+title%3A%22Rate+My+Portfolio%22&restrict_sr=on&sort=new&t=all)\\n\\nFor beginner advice, brokerage info, book recommendations, even advanced topics and more, please read our [Wiki here.](https://www.reddit.com/r/stocks/wiki/index)\\n\\nIf you're wondering **why a stock moved** a certain way, check out [Finviz](https://finviz.com/quote.ashx?t=spy) which aggregates the most news for almost every stock, but also see [Reuters](https://www.reuters.com/), and even [Yahoo Finance](https://finance.yahoo.com/).\\n\\nAlso include *some* [due diligence](https://www.investopedia.com/terms/d/duediligence.asp) to this post or it may be removed if it's low effort.\\n\\n*I am a bot, and this action was performed automatically. Please [contact the moderators of this subreddit](/message/compose/?to=/r/stocks) if you have any questions or concerns.*\\nThe wall street “big boys” certainly do not get the same data that you would get from a $20 a month subscription service\\n\", 7: 'Title: Any experience trading AFTER hours on Robinhood app?\\n\\nComments: \\n\\nI am super curious what you guys think trading at 2 am Eastern was going to be like.\\nSet a limit order and wait, is it really that hard?\\nThe more trading, the more robinhood makes $$ from citadel or other partner market maker.\\n', 8: 'Title: How do you deal with cognitive dissonance? (Oatly)\\n\\nComments: \\n\\nNintendo is a fantastic company and a shit stock.\\nStocks that do well can be for companies you love or hate. \\n\\nHate - Microsoft. They are killing it for the same reasons I hate them, zero UI investment and antiquated looking but all focus rechannelled into enterprise sales for Azure and 365. \\n\\nThere are many other such examples like Google  (especially YouTube) for ads in the past 5 years.\\n\\nLove - I recall reading somewhere companies that are most used by 18-30 girls always make a great index due to high purchasing power. Think Lululemon, makeup brands, etc.\\nA good product isn’t necessarily a good stock. Good businesses aren’t even necessarily good stocks. If you need examples, review long term charts for DIS and BABA.\\n', 9: 'Title: VUAA vs VUSA\\n\\nComments: \\n\\nWhere did you read that the accumulated dividends don’t buy more stock? Internally, most accumulated ETFs work by periodically reinvesting the dividends into the fund itself by buying more stocks. So basically you get the exact same effect as if you were reinvesting them yourself, except you don’t need to pay income taxes before reinvesting. So you’re basically automating the entire process.\\n\\nIMO buying the distributed version of that ETF is pointless. If you care about income(which you shouldn’t overly care about it unless you’re close to retirement or are very short term risk averse) you have way better dividend focused ETFs which have less growth, but much better dividend yield and yield growth.\\n\\nIf you’re American, take a look at SCHD or JEPI. If you’re European, take a look at FUSD, SPYD or VHYD(FUSD is my favourite as it has better dividend growth, while SPYD has better upfront yield and VHYD has better diversification).\\n\\nI’m not particular short term risk averse, but I do invest a small percentage in those ETFs to keep my portfolio stable.\\nTry on /r/eupersonalfinance\\nAre you absolutely sure you are looking at two ETFs denominated in the same currency?\\n\\n[Please read this article for more info](https://irishfinancial.ie/vusa-vs-vuaa-vs-vuag-vs-vusd-sp-500-etfs-differences-explained/?utm_content=cmp-true).\\n', 10: 'Title: Meta planning to release a text-based app that will compete with Twitter, as soon as June\\n\\nComments: \\n\\nMaybe Google will revivie Google Plus.\\n\"***will*** be competitive with\" vs. \"wants to compete with\" are two very different things...\\nMETA is going to try to eat Mastodon.\\n'}\n"
     ]
    }
   ],
   "source": [
    "print(titles_and_comments)"
   ]
  },
  {
   "cell_type": "code",
   "execution_count": 20,
   "metadata": {},
   "outputs": [],
   "source": [
    "def create_prompt(title_and_comments):\n",
    "\n",
    "    task = \"Return the stock ticker or company in the following heading and comments and classify the sentiment. If no ticker or company is mentioned write 'No company mentioned':\\n\\n\"\n",
    "    return task + title_and_comments"
   ]
  },
  {
   "cell_type": "code",
   "execution_count": 21,
   "metadata": {},
   "outputs": [],
   "source": [
    "prompt = create_prompt(titles_and_comments[1])"
   ]
  },
  {
   "cell_type": "code",
   "execution_count": 22,
   "metadata": {},
   "outputs": [
    {
     "name": "stdout",
     "output_type": "stream",
     "text": [
      "Return the stock ticker or company in the following heading and comments and classify the sentiment. If no ticker or company is mentioned write 'No company mentioned':\n",
      "\n",
      "Title: When did we collectively decide Google is a $126 stock after struggling at $90?\n",
      "\n",
      "Comments: \n",
      "\n",
      "Google is hardly the crazy one. Nvidia was also around 90 and now is over 300.\n",
      "Ai, Ai, Ai, Ai, AI, AI, AIiiii\n",
      "Imagine thinking anyone here has any effect on a ticker like google\n",
      "\n"
     ]
    }
   ],
   "source": [
    "print(prompt)"
   ]
  },
  {
   "cell_type": "code",
   "execution_count": 27,
   "metadata": {},
   "outputs": [
    {
     "name": "stdout",
     "output_type": "stream",
     "text": [
      "Title: When did we collectively decide Google is a $126 stock after struggling at $90?\n",
      "\n",
      "Comments: \n",
      "\n",
      "Google is hardly the crazy one. Nvidia was also around 90 and now is over 300.\n",
      "Ai, Ai, Ai, Ai, AI, AI, AIiiii\n",
      "Imagine thinking anyone here has any effect on a ticker like google\n",
      "\n",
      "Sentiment: \n",
      "Company: Google\n",
      "Sentiment: Neutral\n",
      "------------------------------\n",
      "Title: Pypl, Paypal valuation cheap\n",
      "\n",
      "Comments: \n",
      "\n",
      "It's hard to make a strong bullish case for PYPL.\n",
      "\n",
      "Long term, competition abounds.  Their current CEO made a fool of himself saying it was undervalued 200% higher, and now he's taking a golden parachute exit this year.  \n",
      "\n",
      "But a more mild bull argument would mention that Venmo has a solid presence, that PayPal does well in Europe, and earnings have been... decent. \n",
      "\n",
      "Now some intangibles that could give up some unexpected and perhaps undeserved upside.  One is that falling from 300+ to $59 may mean it's been significantly derisked.  Another is that the market should reward them when the current failed CEO gets replaced.  \n",
      "\n",
      "Another big one is just the recurring pattern we keep seeing.  The most reviled and left for dead stocks have seen their prices double, but only after they've been completely declared toxic and uninvestible trash.  \n",
      "\n",
      "NVDA, META, AMZN, AMD, TSLA, GOOGL, NFLX and more.  All were being lowered into graves, with near daily revelations that suggested they were gone for good.  \n",
      "\n",
      "Then, for a period, nobody mentioned them and they just sat there, playing dead.  But then, each of them would have some blip of news.  News that's not entirely financial or factual, but more speculative.  \n",
      "\n",
      "Hey, dead Netflix is going to cannibalize themselves with a crappy ad tier.  That was the bell signalling the start of their 250% rally.\n",
      "\n",
      "Hey, Nvidia is the chip of choice for AI.  Commence 300% run.\n",
      "\n",
      "Zuckerberg pretending not to care about metaverse, instead crowing about layoffs and selling more ads.\n",
      "\n",
      "Amazon saying Hey we have ads and AI too!  \n",
      "\n",
      "As you can see, it doesn't take much narrative to turn trash into treasure.  Netflix has yet to prove anything with their ad tier, and in fact it flopped badly out of the gate, with users being unimpressed and Netflix having to refund most of the early advertisers.  Meta has talked about cost cuts, but the proof of that pudding isn't here yet.\n",
      "\n",
      "The market doesn't wait for actual proof. It rockets on just the mere promise.\n",
      "\n",
      "Well, there's no more hated big name stock right now than PYPL.  It's what TSLA was in December, and what Netflix was a year ago, and what Amazon and Google were three months ago.\n",
      "\n",
      "It may continue to be hated, and not see the pause-then-positive-narrative pattern of those other examples.  But on the other hand, what if it does mimic what many other similar names have done?\n",
      "\n",
      "If someone bought it here, and it merely reverts to where it was two months ago, you'd be riding 35%+ gain.\n",
      "F this garbage. I am a bag holder with heavy loss. I am probably gonna hold it til I die lol\n",
      "\n",
      "Edit: I don’t plan to die for like a few decades so I am fucked lol\n",
      "Don’t ask me why but I used Paypal in half of my internet transactions 3-5 years ago and I haven’t used it once since pandemic.\n",
      "\n",
      "I even forget about my Paypal account. I just use Apple Pay, VISA debit or Bizum (Spanish payment gateway created by largest banks).\n",
      "\n",
      "Paypal reminds me of Dropbox. Amazing, useful and essential service a while back, but now too much competition, and equal/better alternatives.\n",
      "\n",
      "Good luck to Paypal investors though!\n",
      "\n",
      "Sentiment: \n",
      "Company: PYPL (PayPal)\n",
      "Sentiment: Negative\n",
      "------------------------------\n",
      "Title: Do 401k contributions reduce the amount of unemployment you would get?\n",
      "\n",
      "Comments: \n",
      "\n",
      "It’s a good question. Contributing pretax income to your 401k does reduce your “adjusted gross income”. So I can see why you would wonder about it. But it seems like my state uses gross wages to calculate unemployment benefits, so 401k contributions wouldn’t matter. You should google it for your state though and if it’s based on gross income then you’re fine.\n",
      "I like how OP asks a reasonable question that actually makes sense and every single comment but 1 is making fun of him. You're all idiots.\n",
      "Make sure your company match is based on percentage of whole year versus percentage of each check. I.e. company match up to 7% is per pay period. If you contribute 0 the first 6 months, contributing 14% the last 6 months may only get you the 7% match for the last 6 months.\n",
      "\n",
      "Sentiment: \n",
      "No company mentioned.\n",
      "------------------------------\n",
      "Title: COLM Columbia Sportswear, overview and valuation\n",
      "\n",
      "Comments: \n",
      "\n",
      "I love their products and I've never thought to look into their stock. Every outdoors store that I go to is full of Columbia products and everyone there is buying or already wearing them, but I don't know that I'd buy the stock\n",
      "great products that don't gouge you. A lot of outdoor brands are built on the belief that \"oh i'm getting really good quality when I pay this high price tag. So it's actually worth it.\"\n",
      "I'm wearing a Columbia fishing shirt and shorts right now.  They make the best fishing apparel.\n",
      "\n",
      "Sentiment: \n",
      "Company: Columbia Sportswear (COLM)\n",
      "Sentiment: Positive\n",
      "------------------------------\n",
      "Title: Why are DAX, Nikkei at ATH\n",
      "\n",
      "Comments: \n",
      "\n",
      "Nikkie is not near ATH.\n",
      "Part of the answer is that bonds sold off and the money shifted into stocks. Another part is that the global money supply is still expanding. Lastly, algos are driving things up everywhere after SPX hit the 200 week moving average in Oct 2022.\n",
      "I think Nikkei hit 38k or something around 1990\n",
      "\n",
      "Sentiment: \n",
      "Company: Nikkei\n",
      "Sentiment: Neutral\n",
      "------------------------------\n",
      "Title: Subscription based Software/Algo recommendations?\n",
      "\n",
      "Comments: \n",
      "\n",
      "Welcome to r/stocks!\n",
      "\n",
      "For stock recommendations please see our portfolio sticky, sort by hot, it's the first sticky, or see [past portfolio stickies here.](https://www.reddit.com/r/stocks/search?q=author%3Aautomoderator+title%3A%22Rate+My+Portfolio%22&restrict_sr=on&sort=new&t=all)\n",
      "\n",
      "For beginner advice, brokerage info, book recommendations, even advanced topics and more, please read our [Wiki here.](https://www.reddit.com/r/stocks/wiki/index)\n",
      "\n",
      "If you're wondering **why a stock moved** a certain way, check out [Finviz](https://finviz.com/quote.ashx?t=spy) which aggregates the most news for almost every stock, but also see [Reuters](https://www.reuters.com/), and even [Yahoo Finance](https://finance.yahoo.com/).\n",
      "\n",
      "Also include *some* [due diligence](https://www.investopedia.com/terms/d/duediligence.asp) to this post or it may be removed if it's low effort.\n",
      "\n",
      "*I am a bot, and this action was performed automatically. Please [contact the moderators of this subreddit](/message/compose/?to=/r/stocks) if you have any questions or concerns.*\n",
      "The wall street “big boys” certainly do not get the same data that you would get from a $20 a month subscription service\n",
      "\n",
      "Sentiment: \n",
      "No company mentioned.\n",
      "------------------------------\n",
      "Title: Any experience trading AFTER hours on Robinhood app?\n",
      "\n",
      "Comments: \n",
      "\n",
      "I am super curious what you guys think trading at 2 am Eastern was going to be like.\n",
      "Set a limit order and wait, is it really that hard?\n",
      "The more trading, the more robinhood makes $$ from citadel or other partner market maker.\n",
      "\n",
      "Sentiment: \n",
      "No company mentioned\n",
      "------------------------------\n",
      "Title: How do you deal with cognitive dissonance? (Oatly)\n",
      "\n",
      "Comments: \n",
      "\n",
      "Nintendo is a fantastic company and a shit stock.\n",
      "Stocks that do well can be for companies you love or hate. \n",
      "\n",
      "Hate - Microsoft. They are killing it for the same reasons I hate them, zero UI investment and antiquated looking but all focus rechannelled into enterprise sales for Azure and 365. \n",
      "\n",
      "There are many other such examples like Google  (especially YouTube) for ads in the past 5 years.\n",
      "\n",
      "Love - I recall reading somewhere companies that are most used by 18-30 girls always make a great index due to high purchasing power. Think Lululemon, makeup brands, etc.\n",
      "A good product isn’t necessarily a good stock. Good businesses aren’t even necessarily good stocks. If you need examples, review long term charts for DIS and BABA.\n",
      "\n",
      "Sentiment: \n",
      "No company mentioned\n",
      "------------------------------\n",
      "Title: VUAA vs VUSA\n",
      "\n",
      "Comments: \n",
      "\n",
      "Where did you read that the accumulated dividends don’t buy more stock? Internally, most accumulated ETFs work by periodically reinvesting the dividends into the fund itself by buying more stocks. So basically you get the exact same effect as if you were reinvesting them yourself, except you don’t need to pay income taxes before reinvesting. So you’re basically automating the entire process.\n",
      "\n",
      "IMO buying the distributed version of that ETF is pointless. If you care about income(which you shouldn’t overly care about it unless you’re close to retirement or are very short term risk averse) you have way better dividend focused ETFs which have less growth, but much better dividend yield and yield growth.\n",
      "\n",
      "If you’re American, take a look at SCHD or JEPI. If you’re European, take a look at FUSD, SPYD or VHYD(FUSD is my favourite as it has better dividend growth, while SPYD has better upfront yield and VHYD has better diversification).\n",
      "\n",
      "I’m not particular short term risk averse, but I do invest a small percentage in those ETFs to keep my portfolio stable.\n",
      "Try on /r/eupersonalfinance\n",
      "Are you absolutely sure you are looking at two ETFs denominated in the same currency?\n",
      "\n",
      "[Please read this article for more info](https://irishfinancial.ie/vusa-vs-vuaa-vs-vuag-vs-vusd-sp-500-etfs-differences-explained/?utm_content=cmp-true).\n",
      "\n",
      "Sentiment: \n",
      "No company mentioned.\n",
      "------------------------------\n",
      "Title: Meta planning to release a text-based app that will compete with Twitter, as soon as June\n",
      "\n",
      "Comments: \n",
      "\n",
      "Maybe Google will revivie Google Plus.\n",
      "\"***will*** be competitive with\" vs. \"wants to compete with\" are two very different things...\n",
      "META is going to try to eat Mastodon.\n",
      "\n",
      "Sentiment: \n",
      "Company: META\n",
      "Sentiment: Neutral\n",
      "------------------------------\n"
     ]
    }
   ],
   "source": [
    "for key, title_and_comments in titles_and_comments.items():\n",
    "    prompt = create_prompt(title_and_comments)\n",
    "\n",
    "    response = openai.Completion.create(engine=\"text-davinci-003\",\n",
    "                                                prompt=prompt,\n",
    "                                                max_tokens=256,\n",
    "                                                temperature=0,\n",
    "                                                top_p=1.0,\n",
    "                                                frequency_penalty=0.0,\n",
    "                                                presence_penalty=0.0)\n",
    "    print(title_and_comments)\n",
    "    print(\"Sentiment: \" + response[\"choices\"][0][\"text\"])\n",
    "    print(\"-\"*30)"
   ]
  }
 ],
 "metadata": {
  "kernelspec": {
   "display_name": "algoquant",
   "language": "python",
   "name": "python3"
  },
  "language_info": {
   "codemirror_mode": {
    "name": "ipython",
    "version": 3
   },
   "file_extension": ".py",
   "mimetype": "text/x-python",
   "name": "python",
   "nbconvert_exporter": "python",
   "pygments_lexer": "ipython3",
   "version": "3.8.10"
  },
  "orig_nbformat": 4
 },
 "nbformat": 4,
 "nbformat_minor": 2
}
